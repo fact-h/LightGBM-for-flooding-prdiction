{
  "nbformat": 4,
  "nbformat_minor": 0,
  "metadata": {
    "colab": {
      "provenance": [],
      "authorship_tag": "ABX9TyNsVt/ATpW9IgRHdsz90j6S",
      "include_colab_link": true
    },
    "kernelspec": {
      "name": "python3",
      "display_name": "Python 3"
    },
    "language_info": {
      "name": "python"
    },
    "widgets": {
      "application/vnd.jupyter.widget-state+json": {
        "12c51fe592294c13b83c9b01c6781231": {
          "model_module": "@jupyter-widgets/controls",
          "model_name": "VBoxModel",
          "model_module_version": "1.5.0",
          "state": {
            "_dom_classes": [
              "widget-interact"
            ],
            "_model_module": "@jupyter-widgets/controls",
            "_model_module_version": "1.5.0",
            "_model_name": "VBoxModel",
            "_view_count": null,
            "_view_module": "@jupyter-widgets/controls",
            "_view_module_version": "1.5.0",
            "_view_name": "VBoxView",
            "box_style": "",
            "children": [
              "IPY_MODEL_9adfcbe9c2c6480d9208c0df4c0e6ff8",
              "IPY_MODEL_4234d76b351d49e9b5f237a133164a34"
            ],
            "layout": "IPY_MODEL_b2da08a8fd994a0e87e50964fda7c557"
          }
        },
        "9adfcbe9c2c6480d9208c0df4c0e6ff8": {
          "model_module": "@jupyter-widgets/controls",
          "model_name": "DropdownModel",
          "model_module_version": "1.5.0",
          "state": {
            "_dom_classes": [],
            "_model_module": "@jupyter-widgets/controls",
            "_model_module_version": "1.5.0",
            "_model_name": "DropdownModel",
            "_options_labels": [
              "rmse",
              "l2"
            ],
            "_view_count": null,
            "_view_module": "@jupyter-widgets/controls",
            "_view_module_version": "1.5.0",
            "_view_name": "DropdownView",
            "description": "metric_name",
            "description_tooltip": null,
            "disabled": false,
            "index": 0,
            "layout": "IPY_MODEL_ec5415ccfa0b4b33838ca1d9314696dc",
            "style": "IPY_MODEL_eb2dc780e9ee454d9869596172fcc4b2"
          }
        },
        "4234d76b351d49e9b5f237a133164a34": {
          "model_module": "@jupyter-widgets/output",
          "model_name": "OutputModel",
          "model_module_version": "1.0.0",
          "state": {
            "_dom_classes": [],
            "_model_module": "@jupyter-widgets/output",
            "_model_module_version": "1.0.0",
            "_model_name": "OutputModel",
            "_view_count": null,
            "_view_module": "@jupyter-widgets/output",
            "_view_module_version": "1.0.0",
            "_view_name": "OutputView",
            "layout": "IPY_MODEL_e5e1e5630ef2428b9062213a02881dc5",
            "msg_id": "",
            "outputs": [
              {
                "output_type": "display_data",
                "data": {
                  "text/plain": "<Figure size 720x360 with 1 Axes>",
                  "image/png": "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\n"
                },
                "metadata": {
                  "needs_background": "light"
                }
              }
            ]
          }
        },
        "b2da08a8fd994a0e87e50964fda7c557": {
          "model_module": "@jupyter-widgets/base",
          "model_name": "LayoutModel",
          "model_module_version": "1.2.0",
          "state": {
            "_model_module": "@jupyter-widgets/base",
            "_model_module_version": "1.2.0",
            "_model_name": "LayoutModel",
            "_view_count": null,
            "_view_module": "@jupyter-widgets/base",
            "_view_module_version": "1.2.0",
            "_view_name": "LayoutView",
            "align_content": null,
            "align_items": null,
            "align_self": null,
            "border": null,
            "bottom": null,
            "display": null,
            "flex": null,
            "flex_flow": null,
            "grid_area": null,
            "grid_auto_columns": null,
            "grid_auto_flow": null,
            "grid_auto_rows": null,
            "grid_column": null,
            "grid_gap": null,
            "grid_row": null,
            "grid_template_areas": null,
            "grid_template_columns": null,
            "grid_template_rows": null,
            "height": null,
            "justify_content": null,
            "justify_items": null,
            "left": null,
            "margin": null,
            "max_height": null,
            "max_width": null,
            "min_height": null,
            "min_width": null,
            "object_fit": null,
            "object_position": null,
            "order": null,
            "overflow": null,
            "overflow_x": null,
            "overflow_y": null,
            "padding": null,
            "right": null,
            "top": null,
            "visibility": null,
            "width": null
          }
        },
        "ec5415ccfa0b4b33838ca1d9314696dc": {
          "model_module": "@jupyter-widgets/base",
          "model_name": "LayoutModel",
          "model_module_version": "1.2.0",
          "state": {
            "_model_module": "@jupyter-widgets/base",
            "_model_module_version": "1.2.0",
            "_model_name": "LayoutModel",
            "_view_count": null,
            "_view_module": "@jupyter-widgets/base",
            "_view_module_version": "1.2.0",
            "_view_name": "LayoutView",
            "align_content": null,
            "align_items": null,
            "align_self": null,
            "border": null,
            "bottom": null,
            "display": null,
            "flex": null,
            "flex_flow": null,
            "grid_area": null,
            "grid_auto_columns": null,
            "grid_auto_flow": null,
            "grid_auto_rows": null,
            "grid_column": null,
            "grid_gap": null,
            "grid_row": null,
            "grid_template_areas": null,
            "grid_template_columns": null,
            "grid_template_rows": null,
            "height": null,
            "justify_content": null,
            "justify_items": null,
            "left": null,
            "margin": null,
            "max_height": null,
            "max_width": null,
            "min_height": null,
            "min_width": null,
            "object_fit": null,
            "object_position": null,
            "order": null,
            "overflow": null,
            "overflow_x": null,
            "overflow_y": null,
            "padding": null,
            "right": null,
            "top": null,
            "visibility": null,
            "width": null
          }
        },
        "eb2dc780e9ee454d9869596172fcc4b2": {
          "model_module": "@jupyter-widgets/controls",
          "model_name": "DescriptionStyleModel",
          "model_module_version": "1.5.0",
          "state": {
            "_model_module": "@jupyter-widgets/controls",
            "_model_module_version": "1.5.0",
            "_model_name": "DescriptionStyleModel",
            "_view_count": null,
            "_view_module": "@jupyter-widgets/base",
            "_view_module_version": "1.2.0",
            "_view_name": "StyleView",
            "description_width": ""
          }
        },
        "e5e1e5630ef2428b9062213a02881dc5": {
          "model_module": "@jupyter-widgets/base",
          "model_name": "LayoutModel",
          "model_module_version": "1.2.0",
          "state": {
            "_model_module": "@jupyter-widgets/base",
            "_model_module_version": "1.2.0",
            "_model_name": "LayoutModel",
            "_view_count": null,
            "_view_module": "@jupyter-widgets/base",
            "_view_module_version": "1.2.0",
            "_view_name": "LayoutView",
            "align_content": null,
            "align_items": null,
            "align_self": null,
            "border": null,
            "bottom": null,
            "display": null,
            "flex": null,
            "flex_flow": null,
            "grid_area": null,
            "grid_auto_columns": null,
            "grid_auto_flow": null,
            "grid_auto_rows": null,
            "grid_column": null,
            "grid_gap": null,
            "grid_row": null,
            "grid_template_areas": null,
            "grid_template_columns": null,
            "grid_template_rows": null,
            "height": null,
            "justify_content": null,
            "justify_items": null,
            "left": null,
            "margin": null,
            "max_height": null,
            "max_width": null,
            "min_height": null,
            "min_width": null,
            "object_fit": null,
            "object_position": null,
            "order": null,
            "overflow": null,
            "overflow_x": null,
            "overflow_y": null,
            "padding": null,
            "right": null,
            "top": null,
            "visibility": null,
            "width": null
          }
        },
        "b61110eac5b9422baf4c7bfe196336cd": {
          "model_module": "@jupyter-widgets/controls",
          "model_name": "VBoxModel",
          "model_module_version": "1.5.0",
          "state": {
            "_dom_classes": [
              "widget-interact"
            ],
            "_model_module": "@jupyter-widgets/controls",
            "_model_module_version": "1.5.0",
            "_model_name": "VBoxModel",
            "_view_count": null,
            "_view_module": "@jupyter-widgets/controls",
            "_view_module_version": "1.5.0",
            "_view_name": "VBoxView",
            "box_style": "",
            "children": [
              "IPY_MODEL_8cfbfcfa454e4db3af50676595f64853",
              "IPY_MODEL_98bdb9c0b8934d2899d266e4100f9c25",
              "IPY_MODEL_744e7866bea64a8ebadf34f523791e7f",
              "IPY_MODEL_20a722f393944f64ace023207c95c6bc",
              "IPY_MODEL_3f07735820c843c5b501cd5c42a8d2fd"
            ],
            "layout": "IPY_MODEL_77efdefff0a9425798c6b3ac8a05e1f4"
          }
        },
        "8cfbfcfa454e4db3af50676595f64853": {
          "model_module": "@jupyter-widgets/controls",
          "model_name": "DropdownModel",
          "model_module_version": "1.5.0",
          "state": {
            "_dom_classes": [],
            "_model_module": "@jupyter-widgets/controls",
            "_model_module_version": "1.5.0",
            "_model_name": "DropdownModel",
            "_options_labels": [
              "split",
              "gain"
            ],
            "_view_count": null,
            "_view_module": "@jupyter-widgets/controls",
            "_view_module_version": "1.5.0",
            "_view_name": "DropdownView",
            "description": "importance_type",
            "description_tooltip": null,
            "disabled": false,
            "index": 0,
            "layout": "IPY_MODEL_4239d1328f3b4244a46cbdc5f05c0cf2",
            "style": "IPY_MODEL_8f490a71bffa42f897af36dc7caf8593"
          }
        },
        "98bdb9c0b8934d2899d266e4100f9c25": {
          "model_module": "@jupyter-widgets/controls",
          "model_name": "IntSliderModel",
          "model_module_version": "1.5.0",
          "state": {
            "_dom_classes": [],
            "_model_module": "@jupyter-widgets/controls",
            "_model_module_version": "1.5.0",
            "_model_name": "IntSliderModel",
            "_view_count": null,
            "_view_module": "@jupyter-widgets/controls",
            "_view_module_version": "1.5.0",
            "_view_name": "IntSliderView",
            "continuous_update": true,
            "description": "max_features",
            "description_tooltip": null,
            "disabled": false,
            "layout": "IPY_MODEL_920fa7829fdc4441b142482ee282a5da",
            "max": 11,
            "min": 1,
            "orientation": "horizontal",
            "readout": true,
            "readout_format": "d",
            "step": 1,
            "style": "IPY_MODEL_6756b9a4e93d449baf2a48e4b1382b33",
            "value": 10
          }
        },
        "744e7866bea64a8ebadf34f523791e7f": {
          "model_module": "@jupyter-widgets/controls",
          "model_name": "CheckboxModel",
          "model_module_version": "1.5.0",
          "state": {
            "_dom_classes": [],
            "_model_module": "@jupyter-widgets/controls",
            "_model_module_version": "1.5.0",
            "_model_name": "CheckboxModel",
            "_view_count": null,
            "_view_module": "@jupyter-widgets/controls",
            "_view_module_version": "1.5.0",
            "_view_name": "CheckboxView",
            "description": "ignore_zero",
            "description_tooltip": null,
            "disabled": false,
            "indent": true,
            "layout": "IPY_MODEL_e312315fe7244a3db5c6bac747495924",
            "style": "IPY_MODEL_6796d2c50d8340daa78014f90c08c9aa",
            "value": true
          }
        },
        "20a722f393944f64ace023207c95c6bc": {
          "model_module": "@jupyter-widgets/controls",
          "model_name": "IntSliderModel",
          "model_module_version": "1.5.0",
          "state": {
            "_dom_classes": [],
            "_model_module": "@jupyter-widgets/controls",
            "_model_module_version": "1.5.0",
            "_model_name": "IntSliderModel",
            "_view_count": null,
            "_view_module": "@jupyter-widgets/controls",
            "_view_module_version": "1.5.0",
            "_view_name": "IntSliderView",
            "continuous_update": true,
            "description": "precision",
            "description_tooltip": null,
            "disabled": false,
            "layout": "IPY_MODEL_f8a0c1f55918412aa618d27fe9044946",
            "max": 10,
            "min": 0,
            "orientation": "horizontal",
            "readout": true,
            "readout_format": "d",
            "step": 1,
            "style": "IPY_MODEL_51af52f0c2b04d7ba75fe94d3eab2c8d",
            "value": 3
          }
        },
        "3f07735820c843c5b501cd5c42a8d2fd": {
          "model_module": "@jupyter-widgets/output",
          "model_name": "OutputModel",
          "model_module_version": "1.0.0",
          "state": {
            "_dom_classes": [],
            "_model_module": "@jupyter-widgets/output",
            "_model_module_version": "1.0.0",
            "_model_name": "OutputModel",
            "_view_count": null,
            "_view_module": "@jupyter-widgets/output",
            "_view_module_version": "1.0.0",
            "_view_name": "OutputView",
            "layout": "IPY_MODEL_d08e8cd3047645f4b4cfc2dbe8f28309",
            "msg_id": "",
            "outputs": [
              {
                "output_type": "display_data",
                "data": {
                  "text/plain": "<Figure size 864x576 with 1 Axes>",
                  "image/png": "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\n"
                },
                "metadata": {
                  "needs_background": "light"
                }
              }
            ]
          }
        },
        "77efdefff0a9425798c6b3ac8a05e1f4": {
          "model_module": "@jupyter-widgets/base",
          "model_name": "LayoutModel",
          "model_module_version": "1.2.0",
          "state": {
            "_model_module": "@jupyter-widgets/base",
            "_model_module_version": "1.2.0",
            "_model_name": "LayoutModel",
            "_view_count": null,
            "_view_module": "@jupyter-widgets/base",
            "_view_module_version": "1.2.0",
            "_view_name": "LayoutView",
            "align_content": null,
            "align_items": null,
            "align_self": null,
            "border": null,
            "bottom": null,
            "display": null,
            "flex": null,
            "flex_flow": null,
            "grid_area": null,
            "grid_auto_columns": null,
            "grid_auto_flow": null,
            "grid_auto_rows": null,
            "grid_column": null,
            "grid_gap": null,
            "grid_row": null,
            "grid_template_areas": null,
            "grid_template_columns": null,
            "grid_template_rows": null,
            "height": null,
            "justify_content": null,
            "justify_items": null,
            "left": null,
            "margin": null,
            "max_height": null,
            "max_width": null,
            "min_height": null,
            "min_width": null,
            "object_fit": null,
            "object_position": null,
            "order": null,
            "overflow": null,
            "overflow_x": null,
            "overflow_y": null,
            "padding": null,
            "right": null,
            "top": null,
            "visibility": null,
            "width": null
          }
        },
        "4239d1328f3b4244a46cbdc5f05c0cf2": {
          "model_module": "@jupyter-widgets/base",
          "model_name": "LayoutModel",
          "model_module_version": "1.2.0",
          "state": {
            "_model_module": "@jupyter-widgets/base",
            "_model_module_version": "1.2.0",
            "_model_name": "LayoutModel",
            "_view_count": null,
            "_view_module": "@jupyter-widgets/base",
            "_view_module_version": "1.2.0",
            "_view_name": "LayoutView",
            "align_content": null,
            "align_items": null,
            "align_self": null,
            "border": null,
            "bottom": null,
            "display": null,
            "flex": null,
            "flex_flow": null,
            "grid_area": null,
            "grid_auto_columns": null,
            "grid_auto_flow": null,
            "grid_auto_rows": null,
            "grid_column": null,
            "grid_gap": null,
            "grid_row": null,
            "grid_template_areas": null,
            "grid_template_columns": null,
            "grid_template_rows": null,
            "height": null,
            "justify_content": null,
            "justify_items": null,
            "left": null,
            "margin": null,
            "max_height": null,
            "max_width": null,
            "min_height": null,
            "min_width": null,
            "object_fit": null,
            "object_position": null,
            "order": null,
            "overflow": null,
            "overflow_x": null,
            "overflow_y": null,
            "padding": null,
            "right": null,
            "top": null,
            "visibility": null,
            "width": null
          }
        },
        "8f490a71bffa42f897af36dc7caf8593": {
          "model_module": "@jupyter-widgets/controls",
          "model_name": "DescriptionStyleModel",
          "model_module_version": "1.5.0",
          "state": {
            "_model_module": "@jupyter-widgets/controls",
            "_model_module_version": "1.5.0",
            "_model_name": "DescriptionStyleModel",
            "_view_count": null,
            "_view_module": "@jupyter-widgets/base",
            "_view_module_version": "1.2.0",
            "_view_name": "StyleView",
            "description_width": ""
          }
        },
        "920fa7829fdc4441b142482ee282a5da": {
          "model_module": "@jupyter-widgets/base",
          "model_name": "LayoutModel",
          "model_module_version": "1.2.0",
          "state": {
            "_model_module": "@jupyter-widgets/base",
            "_model_module_version": "1.2.0",
            "_model_name": "LayoutModel",
            "_view_count": null,
            "_view_module": "@jupyter-widgets/base",
            "_view_module_version": "1.2.0",
            "_view_name": "LayoutView",
            "align_content": null,
            "align_items": null,
            "align_self": null,
            "border": null,
            "bottom": null,
            "display": null,
            "flex": null,
            "flex_flow": null,
            "grid_area": null,
            "grid_auto_columns": null,
            "grid_auto_flow": null,
            "grid_auto_rows": null,
            "grid_column": null,
            "grid_gap": null,
            "grid_row": null,
            "grid_template_areas": null,
            "grid_template_columns": null,
            "grid_template_rows": null,
            "height": null,
            "justify_content": null,
            "justify_items": null,
            "left": null,
            "margin": null,
            "max_height": null,
            "max_width": null,
            "min_height": null,
            "min_width": null,
            "object_fit": null,
            "object_position": null,
            "order": null,
            "overflow": null,
            "overflow_x": null,
            "overflow_y": null,
            "padding": null,
            "right": null,
            "top": null,
            "visibility": null,
            "width": null
          }
        },
        "6756b9a4e93d449baf2a48e4b1382b33": {
          "model_module": "@jupyter-widgets/controls",
          "model_name": "SliderStyleModel",
          "model_module_version": "1.5.0",
          "state": {
            "_model_module": "@jupyter-widgets/controls",
            "_model_module_version": "1.5.0",
            "_model_name": "SliderStyleModel",
            "_view_count": null,
            "_view_module": "@jupyter-widgets/base",
            "_view_module_version": "1.2.0",
            "_view_name": "StyleView",
            "description_width": "",
            "handle_color": null
          }
        },
        "e312315fe7244a3db5c6bac747495924": {
          "model_module": "@jupyter-widgets/base",
          "model_name": "LayoutModel",
          "model_module_version": "1.2.0",
          "state": {
            "_model_module": "@jupyter-widgets/base",
            "_model_module_version": "1.2.0",
            "_model_name": "LayoutModel",
            "_view_count": null,
            "_view_module": "@jupyter-widgets/base",
            "_view_module_version": "1.2.0",
            "_view_name": "LayoutView",
            "align_content": null,
            "align_items": null,
            "align_self": null,
            "border": null,
            "bottom": null,
            "display": null,
            "flex": null,
            "flex_flow": null,
            "grid_area": null,
            "grid_auto_columns": null,
            "grid_auto_flow": null,
            "grid_auto_rows": null,
            "grid_column": null,
            "grid_gap": null,
            "grid_row": null,
            "grid_template_areas": null,
            "grid_template_columns": null,
            "grid_template_rows": null,
            "height": null,
            "justify_content": null,
            "justify_items": null,
            "left": null,
            "margin": null,
            "max_height": null,
            "max_width": null,
            "min_height": null,
            "min_width": null,
            "object_fit": null,
            "object_position": null,
            "order": null,
            "overflow": null,
            "overflow_x": null,
            "overflow_y": null,
            "padding": null,
            "right": null,
            "top": null,
            "visibility": null,
            "width": null
          }
        },
        "6796d2c50d8340daa78014f90c08c9aa": {
          "model_module": "@jupyter-widgets/controls",
          "model_name": "DescriptionStyleModel",
          "model_module_version": "1.5.0",
          "state": {
            "_model_module": "@jupyter-widgets/controls",
            "_model_module_version": "1.5.0",
            "_model_name": "DescriptionStyleModel",
            "_view_count": null,
            "_view_module": "@jupyter-widgets/base",
            "_view_module_version": "1.2.0",
            "_view_name": "StyleView",
            "description_width": ""
          }
        },
        "f8a0c1f55918412aa618d27fe9044946": {
          "model_module": "@jupyter-widgets/base",
          "model_name": "LayoutModel",
          "model_module_version": "1.2.0",
          "state": {
            "_model_module": "@jupyter-widgets/base",
            "_model_module_version": "1.2.0",
            "_model_name": "LayoutModel",
            "_view_count": null,
            "_view_module": "@jupyter-widgets/base",
            "_view_module_version": "1.2.0",
            "_view_name": "LayoutView",
            "align_content": null,
            "align_items": null,
            "align_self": null,
            "border": null,
            "bottom": null,
            "display": null,
            "flex": null,
            "flex_flow": null,
            "grid_area": null,
            "grid_auto_columns": null,
            "grid_auto_flow": null,
            "grid_auto_rows": null,
            "grid_column": null,
            "grid_gap": null,
            "grid_row": null,
            "grid_template_areas": null,
            "grid_template_columns": null,
            "grid_template_rows": null,
            "height": null,
            "justify_content": null,
            "justify_items": null,
            "left": null,
            "margin": null,
            "max_height": null,
            "max_width": null,
            "min_height": null,
            "min_width": null,
            "object_fit": null,
            "object_position": null,
            "order": null,
            "overflow": null,
            "overflow_x": null,
            "overflow_y": null,
            "padding": null,
            "right": null,
            "top": null,
            "visibility": null,
            "width": null
          }
        },
        "51af52f0c2b04d7ba75fe94d3eab2c8d": {
          "model_module": "@jupyter-widgets/controls",
          "model_name": "SliderStyleModel",
          "model_module_version": "1.5.0",
          "state": {
            "_model_module": "@jupyter-widgets/controls",
            "_model_module_version": "1.5.0",
            "_model_name": "SliderStyleModel",
            "_view_count": null,
            "_view_module": "@jupyter-widgets/base",
            "_view_module_version": "1.2.0",
            "_view_name": "StyleView",
            "description_width": "",
            "handle_color": null
          }
        },
        "d08e8cd3047645f4b4cfc2dbe8f28309": {
          "model_module": "@jupyter-widgets/base",
          "model_name": "LayoutModel",
          "model_module_version": "1.2.0",
          "state": {
            "_model_module": "@jupyter-widgets/base",
            "_model_module_version": "1.2.0",
            "_model_name": "LayoutModel",
            "_view_count": null,
            "_view_module": "@jupyter-widgets/base",
            "_view_module_version": "1.2.0",
            "_view_name": "LayoutView",
            "align_content": null,
            "align_items": null,
            "align_self": null,
            "border": null,
            "bottom": null,
            "display": null,
            "flex": null,
            "flex_flow": null,
            "grid_area": null,
            "grid_auto_columns": null,
            "grid_auto_flow": null,
            "grid_auto_rows": null,
            "grid_column": null,
            "grid_gap": null,
            "grid_row": null,
            "grid_template_areas": null,
            "grid_template_columns": null,
            "grid_template_rows": null,
            "height": null,
            "justify_content": null,
            "justify_items": null,
            "left": null,
            "margin": null,
            "max_height": null,
            "max_width": null,
            "min_height": null,
            "min_width": null,
            "object_fit": null,
            "object_position": null,
            "order": null,
            "overflow": null,
            "overflow_x": null,
            "overflow_y": null,
            "padding": null,
            "right": null,
            "top": null,
            "visibility": null,
            "width": null
          }
        }
      }
    }
  },
  "cells": [
    {
      "cell_type": "markdown",
      "metadata": {
        "id": "view-in-github",
        "colab_type": "text"
      },
      "source": [
        "<a href=\"https://colab.research.google.com/github/fact-h/LightGBM-for-flooding-prdiction/blob/main/LightGBM4flooding.ipynb\" target=\"_parent\"><img src=\"https://colab.research.google.com/assets/colab-badge.svg\" alt=\"Open In Colab\"/></a>"
      ]
    },
    {
      "cell_type": "markdown",
      "source": [
        "# [Rapid Prediction Model for Urban Floods Based on a Light Gradient Boosting Machine Approach and Hydrological–Hydraulic Model](https://doi.org/10.1007/s13753-023-00465-2)\n",
        "\n",
        "- Target: Predicting the maximum water depth of 7 sites based on the sequences of rainfall and tide level.\n",
        "- ML model: [LightGBM](https://lightgbm.readthedocs.io/en/latest/)\n",
        "- Inputs: Ten features of rainfall and tide level and one feature about the location of flooded sites.\n",
        "- Output: Maximum water depth"
      ],
      "metadata": {
        "id": "gzH3KpmQn0dZ"
      }
    },
    {
      "cell_type": "markdown",
      "source": [
        "## Modules import"
      ],
      "metadata": {
        "id": "6lKEorfyoskp"
      }
    },
    {
      "cell_type": "code",
      "source": [
        "import numpy as np\n",
        "import pandas as pd\n",
        "import lightgbm as lgb\n",
        "from xgboost import XGBRegressor\n",
        "from sklearn.svm import SVR\n",
        "from sklearn.tree import DecisionTreeRegressor\n",
        "from sklearn.neighbors import KNeighborsRegressor\n",
        "from sklearn.ensemble import RandomForestRegressor\n",
        "from sklearn.metrics import mean_squared_error\n",
        "from sklearn.metrics import r2_score\n",
        "from sklearn.metrics import mean_absolute_percentage_error\n",
        "from sklearn.model_selection import GridSearchCV\n",
        "from sklearn.preprocessing import OneHotEncoder\n",
        "from matplotlib import pyplot as plt\n",
        "\n",
        "%matplotlib inline\n",
        "\n",
        "try:\n",
        "    # To enable interactive mode you should install ipywidgets\n",
        "    # https://github.com/jupyter-widgets/ipywidgets\n",
        "    from ipywidgets import interact, SelectMultiple\n",
        "    INTERACTIVE = True\n",
        "except ImportError:\n",
        "    INTERACTIVE = False"
      ],
      "metadata": {
        "id": "U90CtmSporFv"
      },
      "execution_count": null,
      "outputs": []
    },
    {
      "cell_type": "markdown",
      "source": [
        "## Load the csv files\n",
        "\n",
        "- `test_df.csv`\n",
        "- `train_valid.csv`\n",
        "\n",
        "`test_df.csv` is the test set. `train_valid.csv` includes the training set and validation set.\n"
      ],
      "metadata": {
        "id": "haDS6XW6pTkn"
      }
    },
    {
      "cell_type": "code",
      "source": [
        "test_df = pd.read_csv('/content/test_df.csv')\n",
        "train_valid = pd.read_csv('/content/train_valid.csv')\n",
        "\n",
        "# `Point` is set to categorical feature, instead of one-hot encoding when training LightGBM.\n",
        "train_valid['Point'].astype('category')\n",
        "test_df['Point'].astype('category')"
      ],
      "metadata": {
        "id": "63KD2UNWzVgn"
      },
      "execution_count": null,
      "outputs": []
    },
    {
      "cell_type": "markdown",
      "source": [
        "### Define inputs `X` and outputs `y` for the trianing set, validation set, and test set.\n"
      ],
      "metadata": {
        "id": "ck8sRu4YXSVj"
      }
    },
    {
      "cell_type": "code",
      "source": [
        "# There are 342 samples in the training data set,\n",
        "# 98 samples in the validation set,\n",
        "# and 50 samples in the test set.\n",
        "\n",
        "val_split = round(0.2 * 490)\n",
        "\n",
        "y_test = test_df.depth                                    # shape: 50 * 1\n",
        "y_val = train_valid.depth[0:val_split]                    # shape: 98 * 1\n",
        "y_train = train_valid.depth[val_split:]                   # shape: 342 * 1\n",
        "\n",
        "X_test = test_df.drop(['depth'], axis=1)                  # shape: 50 * 11\n",
        "X_val = train_valid[0:val_split].drop(['depth'], axis=1)  # shape: 98 * 11\n",
        "X_train = train_valid[val_split:].drop(['depth'], axis=1) # shape: 342 * 11"
      ],
      "metadata": {
        "id": "NGwtnBe53PAG"
      },
      "execution_count": null,
      "outputs": []
    },
    {
      "cell_type": "markdown",
      "source": [
        "##  Train the LightGBM model"
      ],
      "metadata": {
        "id": "FlcZDB9y5-qR"
      }
    },
    {
      "cell_type": "code",
      "source": [
        "evals_result = {}                      # record the evaluation results for plotting\n",
        "gbm = lgb.LGBMRegressor(learning_rate=0.04,\n",
        "                        n_estimators=500,\n",
        "                        n_jobs=4)\n",
        "gbm.fit(X_train,y_train,\n",
        "        categorical_feature=['Point'], # specific the categorical feature\n",
        "        eval_set=[(X_val,y_val)],\n",
        "        eval_metric=['rmse','l1'],\n",
        "        callbacks=[lgb.early_stopping(5), lgb.record_evaluation(evals_result)],\n",
        "        verbose=False)"
      ],
      "metadata": {
        "id": "4MfyBf8x1vF7",
        "colab": {
          "base_uri": "https://localhost:8080/"
        },
        "outputId": "c4e01f60-3d1d-4326-a1d0-56e29b034ce3"
      },
      "execution_count": null,
      "outputs": [
        {
          "output_type": "stream",
          "name": "stderr",
          "text": [
            "/usr/local/lib/python3.7/dist-packages/lightgbm/basic.py:1209: UserWarning: categorical_feature in Dataset is overridden.\n",
            "New categorical_feature is ['Point']\n",
            "  'New categorical_feature is {}'.format(sorted(list(categorical_feature))))\n"
          ]
        },
        {
          "output_type": "stream",
          "name": "stdout",
          "text": [
            "Training until validation scores don't improve for 5 rounds.\n",
            "Early stopping, best iteration is:\n",
            "[460]\tvalid_0's rmse: 0.247512\tvalid_0's l2: 0.0612621\tvalid_0's l1: 0.18519\n"
          ]
        },
        {
          "output_type": "execute_result",
          "data": {
            "text/plain": [
              "LGBMRegressor(learning_rate=0.04, n_estimators=500, n_jobs=4)"
            ]
          },
          "metadata": {},
          "execution_count": 76
        }
      ]
    },
    {
      "cell_type": "markdown",
      "source": [
        "## Apply the one-hot encoding on the categorical feature"
      ],
      "metadata": {
        "id": "YUINEXcszmwv"
      }
    },
    {
      "cell_type": "code",
      "source": [
        "object_cols = ['Point']\n",
        "\n",
        "def oneHot(X_train, X_val, X_test, object_cols):\n",
        "\n",
        "  OH_encoder = OneHotEncoder(handle_unknown='ignore', sparse=False)\n",
        "  OH_cols_train = pd.DataFrame(OH_encoder.fit_transform(X_train[object_cols]))\n",
        "  OH_cols_valid = pd.DataFrame(OH_encoder.fit_transform(X_val[object_cols]))\n",
        "  OH_cols_test = pd.DataFrame(OH_encoder.fit_transform(X_test[object_cols]))\n",
        "\n",
        "  # recover index deleted by one-hot encoding\n",
        "  OH_cols_train.index = X_train.index\n",
        "  OH_cols_valid.index = X_val.index\n",
        "  OH_cols_test.index = X_test.index\n",
        "\n",
        "  # delete the original category column\n",
        "  num_X_train = X_train.drop(object_cols, axis=1)\n",
        "  num_X_valid = X_val.drop(object_cols, axis=1)\n",
        "  num_X_test = X_test.drop(object_cols, axis=1)\n",
        "\n",
        "  # add the one-hot encoding on the feature dataframe.\n",
        "  OH_X_train = pd.concat([num_X_train, OH_cols_train], axis=1)\n",
        "  OH_X_valid = pd.concat([num_X_valid, OH_cols_valid], axis=1)\n",
        "  OH_X_test = pd.concat([num_X_test, OH_cols_test], axis=1)\n",
        "\n",
        "  return OH_X_train, OH_X_valid, OH_X_test\n",
        "\n",
        "OH_X_train, OH_X_valid, OH_X_test = oneHot(X_train, X_val, X_test, object_cols)"
      ],
      "metadata": {
        "id": "KHe77kjJxc5_"
      },
      "execution_count": null,
      "outputs": []
    },
    {
      "cell_type": "markdown",
      "source": [
        "## Train the Random Forest model"
      ],
      "metadata": {
        "id": "Hfp32PsoTx-O"
      }
    },
    {
      "cell_type": "code",
      "source": [
        "forest_model = RandomForestRegressor(random_state=1)\n",
        "forest_model.fit(OH_X_train,y_train)"
      ],
      "metadata": {
        "colab": {
          "base_uri": "https://localhost:8080/"
        },
        "id": "iWhF0GlLT2gT",
        "outputId": "e9132b2b-5ba3-4b01-8654-3e1f3f7a0a5d"
      },
      "execution_count": null,
      "outputs": [
        {
          "output_type": "stream",
          "name": "stderr",
          "text": [
            "/usr/local/lib/python3.7/dist-packages/sklearn/utils/validation.py:1692: FutureWarning: Feature names only support names that are all strings. Got feature names with dtypes: ['int', 'str']. An error will be raised in 1.2.\n",
            "  FutureWarning,\n"
          ]
        },
        {
          "output_type": "execute_result",
          "data": {
            "text/plain": [
              "RandomForestRegressor(random_state=1)"
            ]
          },
          "metadata": {},
          "execution_count": 78
        }
      ]
    },
    {
      "cell_type": "markdown",
      "source": [
        "## Train the XGBoost model"
      ],
      "metadata": {
        "id": "jBAaOCWoxDVZ"
      }
    },
    {
      "cell_type": "code",
      "source": [
        "xgb_model = XGBRegressor(learning_rate=0.03, n_estimators=300, n_jobs=4)\n",
        "xgb_model.fit(OH_X_train,y_train,\n",
        "              early_stopping_rounds=5,\n",
        "              eval_set=[(OH_X_valid,y_val)],\n",
        "              verbose=False)"
      ],
      "metadata": {
        "id": "J4jwBwrSxGmr",
        "colab": {
          "base_uri": "https://localhost:8080/"
        },
        "outputId": "faae087a-2ed5-4c8e-ed2e-5a34ef3a3f94"
      },
      "execution_count": null,
      "outputs": [
        {
          "output_type": "stream",
          "name": "stdout",
          "text": [
            "[13:24:04] WARNING: /workspace/src/objective/regression_obj.cu:152: reg:linear is now deprecated in favor of reg:squarederror.\n"
          ]
        },
        {
          "output_type": "execute_result",
          "data": {
            "text/plain": [
              "XGBRegressor(learning_rate=0.03, n_estimators=300, n_jobs=4)"
            ]
          },
          "metadata": {},
          "execution_count": 79
        }
      ]
    },
    {
      "cell_type": "markdown",
      "source": [
        "# Train the Support Vector Regression model"
      ],
      "metadata": {
        "id": "WLOqpUk73sm1"
      }
    },
    {
      "cell_type": "code",
      "source": [
        "SVR_model = SVR()\n",
        "SVR_model.fit(OH_X_train, y_train)"
      ],
      "metadata": {
        "colab": {
          "base_uri": "https://localhost:8080/"
        },
        "id": "m_4rlRzx3u5o",
        "outputId": "1aefd64d-8cdb-4410-987a-f762489874fb"
      },
      "execution_count": null,
      "outputs": [
        {
          "output_type": "stream",
          "name": "stderr",
          "text": [
            "/usr/local/lib/python3.7/dist-packages/sklearn/utils/validation.py:1692: FutureWarning: Feature names only support names that are all strings. Got feature names with dtypes: ['int', 'str']. An error will be raised in 1.2.\n",
            "  FutureWarning,\n"
          ]
        },
        {
          "output_type": "execute_result",
          "data": {
            "text/plain": [
              "SVR()"
            ]
          },
          "metadata": {},
          "execution_count": 80
        }
      ]
    },
    {
      "cell_type": "markdown",
      "source": [
        "## Train the Decision Tree model"
      ],
      "metadata": {
        "id": "45WGILcG422f"
      }
    },
    {
      "cell_type": "code",
      "source": [
        "DT_model = DecisionTreeRegressor()\n",
        "DT_model.fit(OH_X_train, y_train)"
      ],
      "metadata": {
        "colab": {
          "base_uri": "https://localhost:8080/"
        },
        "id": "JRn4eyON47rS",
        "outputId": "5c6da4f3-3e24-4baa-a7c0-8a73c7a74578"
      },
      "execution_count": null,
      "outputs": [
        {
          "output_type": "stream",
          "name": "stderr",
          "text": [
            "/usr/local/lib/python3.7/dist-packages/sklearn/utils/validation.py:1692: FutureWarning: Feature names only support names that are all strings. Got feature names with dtypes: ['int', 'str']. An error will be raised in 1.2.\n",
            "  FutureWarning,\n"
          ]
        },
        {
          "output_type": "execute_result",
          "data": {
            "text/plain": [
              "DecisionTreeRegressor()"
            ]
          },
          "metadata": {},
          "execution_count": 81
        }
      ]
    },
    {
      "cell_type": "markdown",
      "source": [
        "## Train the k-nearest neighbors model"
      ],
      "metadata": {
        "id": "uaLKG6eH5-Xv"
      }
    },
    {
      "cell_type": "code",
      "source": [
        "KNN_model = KNeighborsRegressor()\n",
        "KNN_model.fit(OH_X_train, y_train)"
      ],
      "metadata": {
        "colab": {
          "base_uri": "https://localhost:8080/"
        },
        "id": "t7NvuA6U6A-Q",
        "outputId": "5f381525-ea9e-492f-cba6-f8a63028fb46"
      },
      "execution_count": null,
      "outputs": [
        {
          "output_type": "stream",
          "name": "stderr",
          "text": [
            "/usr/local/lib/python3.7/dist-packages/sklearn/utils/validation.py:1692: FutureWarning: Feature names only support names that are all strings. Got feature names with dtypes: ['int', 'str']. An error will be raised in 1.2.\n",
            "  FutureWarning,\n"
          ]
        },
        {
          "output_type": "execute_result",
          "data": {
            "text/plain": [
              "KNeighborsRegressor()"
            ]
          },
          "metadata": {},
          "execution_count": 82
        }
      ]
    },
    {
      "cell_type": "markdown",
      "source": [
        "## Plot the metric during the process of model training"
      ],
      "metadata": {
        "id": "gpDkmwTDwJjk"
      }
    },
    {
      "cell_type": "code",
      "source": [
        "def render_metric(metric_name):\n",
        "    ax = lgb.plot_metric(evals_result, metric=metric_name, figsize=(10, 5))\n",
        "    plt.show()\n",
        "\n",
        "if INTERACTIVE:\n",
        "    # create widget to switch between metrics\n",
        "    interact(render_metric, metric_name=['rmse','l2'])\n",
        "else:\n",
        "    render_metric('rmse')"
      ],
      "metadata": {
        "colab": {
          "base_uri": "https://localhost:8080/",
          "height": 382,
          "referenced_widgets": [
            "12c51fe592294c13b83c9b01c6781231",
            "9adfcbe9c2c6480d9208c0df4c0e6ff8",
            "4234d76b351d49e9b5f237a133164a34",
            "b2da08a8fd994a0e87e50964fda7c557",
            "ec5415ccfa0b4b33838ca1d9314696dc",
            "eb2dc780e9ee454d9869596172fcc4b2",
            "e5e1e5630ef2428b9062213a02881dc5"
          ]
        },
        "id": "ccROadr2wPcs",
        "outputId": "e9f4582c-84f2-405b-9fc0-7016f7655049"
      },
      "execution_count": null,
      "outputs": [
        {
          "output_type": "display_data",
          "data": {
            "text/plain": [
              "interactive(children=(Dropdown(description='metric_name', options=('rmse', 'l2'), value='rmse'), Output()), _d…"
            ],
            "application/vnd.jupyter.widget-view+json": {
              "version_major": 2,
              "version_minor": 0,
              "model_id": "12c51fe592294c13b83c9b01c6781231"
            }
          },
          "metadata": {}
        }
      ]
    },
    {
      "cell_type": "markdown",
      "source": [
        "## Plot the feature importance"
      ],
      "metadata": {
        "id": "Ukgg42b8xWRF"
      }
    },
    {
      "cell_type": "code",
      "source": [
        "def render_plot_importance(importance_type, max_features=10,\n",
        "                           ignore_zero=True, precision=3):\n",
        "    ax = lgb.plot_importance(gbm, importance_type=importance_type,\n",
        "                             max_num_features=max_features,\n",
        "                             ignore_zero=ignore_zero, figsize=(12, 8),\n",
        "                             precision=precision)\n",
        "    plt.show()\n",
        "\n",
        "if INTERACTIVE:\n",
        "    # create widget for interactive feature importance plot\n",
        "    interact(render_plot_importance,\n",
        "             importance_type=['split', 'gain'],\n",
        "             max_features=(1, X_train.shape[-1]),\n",
        "             precision=(0, 10))\n",
        "else:\n",
        "    render_plot_importance(importance_type='split')"
      ],
      "metadata": {
        "colab": {
          "base_uri": "https://localhost:8080/",
          "height": 641,
          "referenced_widgets": [
            "b61110eac5b9422baf4c7bfe196336cd",
            "8cfbfcfa454e4db3af50676595f64853",
            "98bdb9c0b8934d2899d266e4100f9c25",
            "744e7866bea64a8ebadf34f523791e7f",
            "20a722f393944f64ace023207c95c6bc",
            "3f07735820c843c5b501cd5c42a8d2fd",
            "77efdefff0a9425798c6b3ac8a05e1f4",
            "4239d1328f3b4244a46cbdc5f05c0cf2",
            "8f490a71bffa42f897af36dc7caf8593",
            "920fa7829fdc4441b142482ee282a5da",
            "6756b9a4e93d449baf2a48e4b1382b33",
            "e312315fe7244a3db5c6bac747495924",
            "6796d2c50d8340daa78014f90c08c9aa",
            "f8a0c1f55918412aa618d27fe9044946",
            "51af52f0c2b04d7ba75fe94d3eab2c8d",
            "d08e8cd3047645f4b4cfc2dbe8f28309"
          ]
        },
        "id": "eoU6FZLCxbK9",
        "outputId": "53d58428-3a0c-4cbb-ab34-110667055ed6"
      },
      "execution_count": null,
      "outputs": [
        {
          "output_type": "display_data",
          "data": {
            "text/plain": [
              "interactive(children=(Dropdown(description='importance_type', options=('split', 'gain'), value='split'), IntSl…"
            ],
            "application/vnd.jupyter.widget-view+json": {
              "version_major": 2,
              "version_minor": 0,
              "model_id": "b61110eac5b9422baf4c7bfe196336cd"
            }
          },
          "metadata": {}
        }
      ]
    },
    {
      "cell_type": "markdown",
      "source": [
        "## Predict and evaluate the models on the test data set\n",
        "Metrics:\n",
        "- RMSE\n",
        "- MAPE\n",
        "- SSE\n",
        "- NSE\n",
        "- $R^2_{adjusted}$\n",
        "\n"
      ],
      "metadata": {
        "id": "ReeLiuiD6iio"
      }
    },
    {
      "cell_type": "markdown",
      "source": [
        "## Evaluate the LightGBM model"
      ],
      "metadata": {
        "id": "yDsfqI1BFOvG"
      }
    },
    {
      "cell_type": "code",
      "source": [
        "# evalution function\n",
        "def modelEva(y_test, y_pred, modelName):\n",
        "\n",
        "  # RMSE\n",
        "  rmse_test = mean_squared_error(y_test, y_pred) ** 0.5\n",
        "\n",
        "  y_pred_raw = y_pred * 0.2497080940919035 + 0.7216249550788679\n",
        "  y_test_raw = y_test * 0.2497080940919035 + 0.7216249550788679\n",
        "  rmse_test_raw = mean_squared_error(y_test_raw,y_pred_raw) ** 0.5 # mse加根号即是rmse\n",
        "  print(f'The RMSE of prediction is: {rmse_test_raw}')\n",
        "\n",
        "  # MAPE\n",
        "  mape = mean_absolute_percentage_error(y_test_raw,y_pred_raw)\n",
        "  print(f'The MAPE of prediction is: {mape}')\n",
        "\n",
        "  # SSE and NSE\n",
        "  H_obs = y_test\n",
        "  H_m = y_pred\n",
        "  H_obs_mean = H_obs.mean()\n",
        "  SSE = ((H_obs - H_m)**2).sum()\n",
        "  SST = ((H_obs - H_obs_mean)**2).sum()\n",
        "  NSE = 1 - SSE / SST\n",
        "  n = y_test.shape[0]\n",
        "  k = X_test.shape[1]\n",
        "\n",
        "  # R^2_{adjusted}\n",
        "  Adjusted_R2 = 1 - (1 - NSE) * (n-1) / (n-k-1)\n",
        "  print(f'The SSE of prediction is: {SSE}')\n",
        "  print(f'The NSE of prediction is: {NSE}')\n",
        "  print(f'The adjusted R2 of prediction is: {Adjusted_R2}')\n",
        "\n",
        "  data = [rmse_test_raw, mape, SSE, NSE, Adjusted_R2]\n",
        "  index = ['RMSE','MAPE','SSE','NSE','R2_adj']\n",
        "  columns = [modelName]\n",
        "  return result = pd.DataFrame(data=data,index=index,columns=columns)"
      ],
      "metadata": {
        "id": "UAXwF-DgYaz4"
      },
      "execution_count": null,
      "outputs": []
    },
    {
      "cell_type": "code",
      "source": [
        "# predict of LightGBM\n",
        "y_pred = gbm.predict(X_test,num_iteration=gbm.best_iteration_)\n",
        "modelName = 'LightGBM'\n",
        "LightGBM_result = modelEva(y_test, y_pred, modelName)"
      ],
      "metadata": {
        "id": "evtRaOn_6k0F",
        "colab": {
          "base_uri": "https://localhost:8080/"
        },
        "outputId": "9b6f4bac-83e5-45d2-919c-b4c5d4232a34"
      },
      "execution_count": null,
      "outputs": [
        {
          "output_type": "stream",
          "name": "stdout",
          "text": [
            "The RMSE of raw prediction is: 0.03455421711024856\n",
            "The MAPE of raw prediction is: 0.047455704102190424\n",
            "The SSE of raw prediction is: 0.9574296657830896\n",
            "The NSE of raw prediction is: 0.9854019807750426\n",
            "The adjusted R2 of raw prediction is: 0.9811762383678181\n"
          ]
        }
      ]
    },
    {
      "cell_type": "markdown",
      "source": [
        "## Evaluate the RF model"
      ],
      "metadata": {
        "id": "qX3N1Z1DUTjP"
      }
    },
    {
      "cell_type": "code",
      "source": [
        "RF_pred = forest_model.predict(OH_X_test)\n",
        "modelName = 'RF'\n",
        "RF_result = modelEva(y_test, RF_pred, modelName)"
      ],
      "metadata": {
        "colab": {
          "base_uri": "https://localhost:8080/"
        },
        "id": "XD_p-yDXUXnv",
        "outputId": "2e0d4ec7-b64f-4ab2-8db5-149a0af6ee62"
      },
      "execution_count": null,
      "outputs": [
        {
          "output_type": "stream",
          "name": "stdout",
          "text": [
            "The RMSE of raw prediction is: 0.03977443282712665\n",
            "The MAPE of raw prediction is: 0.07592471275000459\n",
            "The SSE of raw prediction is: 1.2685650890382454\n",
            "The NSE of raw prediction is: 0.9806580700183928\n",
            "The adjusted R2 of raw prediction is: 0.9673188079621119\n"
          ]
        },
        {
          "output_type": "stream",
          "name": "stderr",
          "text": [
            "/usr/local/lib/python3.7/dist-packages/sklearn/utils/validation.py:1692: FutureWarning: Feature names only support names that are all strings. Got feature names with dtypes: ['int', 'str']. An error will be raised in 1.2.\n",
            "  FutureWarning,\n"
          ]
        }
      ]
    },
    {
      "cell_type": "markdown",
      "source": [
        "# Evaluate the XGBoost model"
      ],
      "metadata": {
        "id": "fT_3mU9QypSs"
      }
    },
    {
      "cell_type": "code",
      "source": [
        "xgb_pred = xgb_model.predict(OH_X_test)\n",
        "modelName = 'XGBoost'\n",
        "XGBoost_result = modelEva(y_test, xgb_pred, modelName)"
      ],
      "metadata": {
        "colab": {
          "base_uri": "https://localhost:8080/"
        },
        "id": "yBMwr1-yyr2_",
        "outputId": "7ecb09b3-2f69-4f9c-b858-981ee451f646"
      },
      "execution_count": null,
      "outputs": [
        {
          "output_type": "stream",
          "name": "stdout",
          "text": [
            "The RMSE of raw prediction is: 0.036647910104696875\n",
            "The MAPE of raw prediction is: 0.054807523162045534\n",
            "The SSE of raw prediction is: 1.0769689132535705\n",
            "The NSE of raw prediction is: 0.9835793547429948\n",
            "The adjusted R2 of raw prediction is: 0.9722547718071293\n"
          ]
        }
      ]
    },
    {
      "cell_type": "markdown",
      "source": [
        "## Evaluate the SVR model"
      ],
      "metadata": {
        "id": "r_DN5rE14C-V"
      }
    },
    {
      "cell_type": "code",
      "source": [
        "SVR_pred = SVR_model.predict(OH_X_test)\n",
        "modelName = 'SVR'\n",
        "SVR_result = modelEva(y_test, SVR_pred, modelName)"
      ],
      "metadata": {
        "colab": {
          "base_uri": "https://localhost:8080/"
        },
        "id": "tdU64mwH4E3b",
        "outputId": "b7cb9b36-412c-414e-aaac-b561b5e6da4c"
      },
      "execution_count": null,
      "outputs": [
        {
          "output_type": "stream",
          "name": "stdout",
          "text": [
            "The RMSE of raw prediction is: 0.0562998854841833\n",
            "The MAPE of raw prediction is: 0.10292485640531847\n",
            "The SSE of raw prediction is: 2.5416736557002038\n",
            "The NSE of raw prediction is: 0.9612468652105821\n",
            "The adjusted R2 of raw prediction is: 0.9345205653558112\n"
          ]
        },
        {
          "output_type": "stream",
          "name": "stderr",
          "text": [
            "/usr/local/lib/python3.7/dist-packages/sklearn/utils/validation.py:1692: FutureWarning: Feature names only support names that are all strings. Got feature names with dtypes: ['int', 'str']. An error will be raised in 1.2.\n",
            "  FutureWarning,\n"
          ]
        }
      ]
    },
    {
      "cell_type": "markdown",
      "source": [
        "## Evaluate the DT model"
      ],
      "metadata": {
        "id": "49J7q90R5SHG"
      }
    },
    {
      "cell_type": "code",
      "source": [
        "DT_pred = DT_model.predict(OH_X_test)\n",
        "modelName = 'DT'\n",
        "DT_result = modelEva(y_test, DT_pred, modelName)"
      ],
      "metadata": {
        "colab": {
          "base_uri": "https://localhost:8080/"
        },
        "id": "3kVFh0cV5UFk",
        "outputId": "35a35cc6-3acc-4d27-df7f-981e46d08b67"
      },
      "execution_count": null,
      "outputs": [
        {
          "output_type": "stream",
          "name": "stdout",
          "text": [
            "The RMSE of raw prediction is: 0.041395692009998805\n",
            "The MAPE of raw prediction is: 0.05128257055424308\n",
            "The SSE of raw prediction is: 1.3740896192561227\n",
            "The NSE of raw prediction is: 0.979049127684686\n",
            "The adjusted R2 of raw prediction is: 0.9646002502258487\n"
          ]
        },
        {
          "output_type": "stream",
          "name": "stderr",
          "text": [
            "/usr/local/lib/python3.7/dist-packages/sklearn/utils/validation.py:1692: FutureWarning: Feature names only support names that are all strings. Got feature names with dtypes: ['int', 'str']. An error will be raised in 1.2.\n",
            "  FutureWarning,\n"
          ]
        }
      ]
    },
    {
      "cell_type": "markdown",
      "source": [
        "## Evaluate the KNN model"
      ],
      "metadata": {
        "id": "EIkAz4Pj6Pii"
      }
    },
    {
      "cell_type": "code",
      "source": [
        "KNN_pred = KNN_model.predict(OH_X_test)\n",
        "modelName = 'KNN'\n",
        "KNN_result = modelEva(y_test, KNN_pred, modelName)"
      ],
      "metadata": {
        "colab": {
          "base_uri": "https://localhost:8080/"
        },
        "id": "NVAe1FiD6Rtm",
        "outputId": "3f658f71-c9ab-4091-bdaf-874c54beff43"
      },
      "execution_count": null,
      "outputs": [
        {
          "output_type": "stream",
          "name": "stdout",
          "text": [
            "The RMSE of raw prediction is: 0.10208212639358936\n",
            "The MAPE of raw prediction is: 0.19249710811659665\n",
            "The SSE of raw prediction is: 8.356110615427026\n",
            "The NSE of raw prediction is: 0.8725936037190742\n",
            "The adjusted R2 of raw prediction is: 0.7847271235253324\n"
          ]
        },
        {
          "output_type": "stream",
          "name": "stderr",
          "text": [
            "/usr/local/lib/python3.7/dist-packages/sklearn/utils/validation.py:1692: FutureWarning: Feature names only support names that are all strings. Got feature names with dtypes: ['int', 'str']. An error will be raised in 1.2.\n",
            "  FutureWarning,\n"
          ]
        }
      ]
    },
    {
      "cell_type": "code",
      "source": [
        "pd.concat([LightGBM_result, RF_result, XGBoost_result, SVR_result, KNN_result], axis='columns')"
      ],
      "metadata": {
        "colab": {
          "base_uri": "https://localhost:8080/",
          "height": 206
        },
        "id": "kfGfrLksI-mE",
        "outputId": "10960abe-847e-49ef-cd1c-aaf240d2eb98"
      },
      "execution_count": null,
      "outputs": [
        {
          "output_type": "execute_result",
          "data": {
            "text/plain": [
              "        LightGBM        RF   XGBoost       SVR       KNN\n",
              "RMSE    0.034554  0.039774  0.036648  0.056300  0.102082\n",
              "MAPE    0.047456  0.075925  0.054808  0.102925  0.192497\n",
              "SSE     0.957430  1.268565  1.076969  2.541674  8.356111\n",
              "NSE     0.985402  0.980658  0.983579  0.961247  0.872594\n",
              "R2_adj  0.981176  0.967319  0.972255  0.934521  0.784727"
            ],
            "text/html": [
              "\n",
              "  <div id=\"df-070df32a-516b-44c6-ad6a-4fe71ca6b890\">\n",
              "    <div class=\"colab-df-container\">\n",
              "      <div>\n",
              "<style scoped>\n",
              "    .dataframe tbody tr th:only-of-type {\n",
              "        vertical-align: middle;\n",
              "    }\n",
              "\n",
              "    .dataframe tbody tr th {\n",
              "        vertical-align: top;\n",
              "    }\n",
              "\n",
              "    .dataframe thead th {\n",
              "        text-align: right;\n",
              "    }\n",
              "</style>\n",
              "<table border=\"1\" class=\"dataframe\">\n",
              "  <thead>\n",
              "    <tr style=\"text-align: right;\">\n",
              "      <th></th>\n",
              "      <th>LightGBM</th>\n",
              "      <th>RF</th>\n",
              "      <th>XGBoost</th>\n",
              "      <th>SVR</th>\n",
              "      <th>KNN</th>\n",
              "    </tr>\n",
              "  </thead>\n",
              "  <tbody>\n",
              "    <tr>\n",
              "      <th>RMSE</th>\n",
              "      <td>0.034554</td>\n",
              "      <td>0.039774</td>\n",
              "      <td>0.036648</td>\n",
              "      <td>0.056300</td>\n",
              "      <td>0.102082</td>\n",
              "    </tr>\n",
              "    <tr>\n",
              "      <th>MAPE</th>\n",
              "      <td>0.047456</td>\n",
              "      <td>0.075925</td>\n",
              "      <td>0.054808</td>\n",
              "      <td>0.102925</td>\n",
              "      <td>0.192497</td>\n",
              "    </tr>\n",
              "    <tr>\n",
              "      <th>SSE</th>\n",
              "      <td>0.957430</td>\n",
              "      <td>1.268565</td>\n",
              "      <td>1.076969</td>\n",
              "      <td>2.541674</td>\n",
              "      <td>8.356111</td>\n",
              "    </tr>\n",
              "    <tr>\n",
              "      <th>NSE</th>\n",
              "      <td>0.985402</td>\n",
              "      <td>0.980658</td>\n",
              "      <td>0.983579</td>\n",
              "      <td>0.961247</td>\n",
              "      <td>0.872594</td>\n",
              "    </tr>\n",
              "    <tr>\n",
              "      <th>R2_adj</th>\n",
              "      <td>0.981176</td>\n",
              "      <td>0.967319</td>\n",
              "      <td>0.972255</td>\n",
              "      <td>0.934521</td>\n",
              "      <td>0.784727</td>\n",
              "    </tr>\n",
              "  </tbody>\n",
              "</table>\n",
              "</div>\n",
              "      <button class=\"colab-df-convert\" onclick=\"convertToInteractive('df-070df32a-516b-44c6-ad6a-4fe71ca6b890')\"\n",
              "              title=\"Convert this dataframe to an interactive table.\"\n",
              "              style=\"display:none;\">\n",
              "        \n",
              "  <svg xmlns=\"http://www.w3.org/2000/svg\" height=\"24px\"viewBox=\"0 0 24 24\"\n",
              "       width=\"24px\">\n",
              "    <path d=\"M0 0h24v24H0V0z\" fill=\"none\"/>\n",
              "    <path d=\"M18.56 5.44l.94 2.06.94-2.06 2.06-.94-2.06-.94-.94-2.06-.94 2.06-2.06.94zm-11 1L8.5 8.5l.94-2.06 2.06-.94-2.06-.94L8.5 2.5l-.94 2.06-2.06.94zm10 10l.94 2.06.94-2.06 2.06-.94-2.06-.94-.94-2.06-.94 2.06-2.06.94z\"/><path d=\"M17.41 7.96l-1.37-1.37c-.4-.4-.92-.59-1.43-.59-.52 0-1.04.2-1.43.59L10.3 9.45l-7.72 7.72c-.78.78-.78 2.05 0 2.83L4 21.41c.39.39.9.59 1.41.59.51 0 1.02-.2 1.41-.59l7.78-7.78 2.81-2.81c.8-.78.8-2.07 0-2.86zM5.41 20L4 18.59l7.72-7.72 1.47 1.35L5.41 20z\"/>\n",
              "  </svg>\n",
              "      </button>\n",
              "      \n",
              "  <style>\n",
              "    .colab-df-container {\n",
              "      display:flex;\n",
              "      flex-wrap:wrap;\n",
              "      gap: 12px;\n",
              "    }\n",
              "\n",
              "    .colab-df-convert {\n",
              "      background-color: #E8F0FE;\n",
              "      border: none;\n",
              "      border-radius: 50%;\n",
              "      cursor: pointer;\n",
              "      display: none;\n",
              "      fill: #1967D2;\n",
              "      height: 32px;\n",
              "      padding: 0 0 0 0;\n",
              "      width: 32px;\n",
              "    }\n",
              "\n",
              "    .colab-df-convert:hover {\n",
              "      background-color: #E2EBFA;\n",
              "      box-shadow: 0px 1px 2px rgba(60, 64, 67, 0.3), 0px 1px 3px 1px rgba(60, 64, 67, 0.15);\n",
              "      fill: #174EA6;\n",
              "    }\n",
              "\n",
              "    [theme=dark] .colab-df-convert {\n",
              "      background-color: #3B4455;\n",
              "      fill: #D2E3FC;\n",
              "    }\n",
              "\n",
              "    [theme=dark] .colab-df-convert:hover {\n",
              "      background-color: #434B5C;\n",
              "      box-shadow: 0px 1px 3px 1px rgba(0, 0, 0, 0.15);\n",
              "      filter: drop-shadow(0px 1px 2px rgba(0, 0, 0, 0.3));\n",
              "      fill: #FFFFFF;\n",
              "    }\n",
              "  </style>\n",
              "\n",
              "      <script>\n",
              "        const buttonEl =\n",
              "          document.querySelector('#df-070df32a-516b-44c6-ad6a-4fe71ca6b890 button.colab-df-convert');\n",
              "        buttonEl.style.display =\n",
              "          google.colab.kernel.accessAllowed ? 'block' : 'none';\n",
              "\n",
              "        async function convertToInteractive(key) {\n",
              "          const element = document.querySelector('#df-070df32a-516b-44c6-ad6a-4fe71ca6b890');\n",
              "          const dataTable =\n",
              "            await google.colab.kernel.invokeFunction('convertToInteractive',\n",
              "                                                     [key], {});\n",
              "          if (!dataTable) return;\n",
              "\n",
              "          const docLinkHtml = 'Like what you see? Visit the ' +\n",
              "            '<a target=\"_blank\" href=https://colab.research.google.com/notebooks/data_table.ipynb>data table notebook</a>'\n",
              "            + ' to learn more about interactive tables.';\n",
              "          element.innerHTML = '';\n",
              "          dataTable['output_type'] = 'display_data';\n",
              "          await google.colab.output.renderOutput(dataTable, element);\n",
              "          const docLink = document.createElement('div');\n",
              "          docLink.innerHTML = docLinkHtml;\n",
              "          element.appendChild(docLink);\n",
              "        }\n",
              "      </script>\n",
              "    </div>\n",
              "  </div>\n",
              "  "
            ]
          },
          "metadata": {},
          "execution_count": 91
        }
      ]
    },
    {
      "cell_type": "markdown",
      "source": [
        "### Save the ground true value and predicted value"
      ],
      "metadata": {
        "id": "UkfXabPSZqWr"
      }
    },
    {
      "cell_type": "code",
      "source": [
        "depth = [list(y_test_raw), list(y_pred_raw), list(RF_pred_raw), list(xgb_pred_raw), list(SVR_pred_raw), list(DT_pred_raw), list(KNN_pred_raw)]\n",
        "depth = np.transpose(depth)\n",
        "cols = ['Real', 'LGBM', 'RF', 'XGBoost', 'SVR', 'DF', 'KNN']\n",
        "df = pd.DataFrame(data=depth,columns=cols)\n",
        "df.to_csv('result.csv')"
      ],
      "metadata": {
        "id": "M5ymWV13KxM0"
      },
      "execution_count": null,
      "outputs": []
    }
  ]
}